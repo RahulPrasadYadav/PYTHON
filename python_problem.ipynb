{
 "cells": [
  {
   "cell_type": "code",
   "execution_count": 11,
   "metadata": {},
   "outputs": [
    {
     "name": "stdout",
     "output_type": "stream",
     "text": [
      "11.666666666666666\n"
     ]
    }
   ],
   "source": [
    "arr=[1,2,2, 3,3,4,5,55]\n",
    "\n",
    "a=set(arr)\n",
    "\n",
    "b=a.__len__()\n",
    "\n",
    "sum=0\n",
    "for i in a:\n",
    "    sum=sum+i\n",
    "\n",
    "print(sum/b)\n",
    "\n",
    "\n",
    "\n",
    "\n"
   ]
  },
  {
   "cell_type": "code",
   "execution_count": 3,
   "metadata": {},
   "outputs": [
    {
     "name": "stdout",
     "output_type": "stream",
     "text": [
      "not plimdrome\n"
     ]
    }
   ],
   "source": [
    "num=122\n",
    "original_num=num\n",
    "rev=0\n",
    "\n",
    "while num>0:\n",
    "    digit=num%10\n",
    "    rev=rev*10+digit\n",
    "    num=num//10\n",
    "\n",
    "if original_num == rev:\n",
    "    print(\"palimdrime number \")\n",
    "else:\n",
    "    print(\"not plimdrome\")"
   ]
  },
  {
   "cell_type": "markdown",
   "metadata": {},
   "source": [
    "Counting Consonants in a Given Word"
   ]
  },
  {
   "cell_type": "code",
   "execution_count": null,
   "metadata": {},
   "outputs": [
    {
     "name": "stdout",
     "output_type": "stream",
     "text": [
      "3\n"
     ]
    }
   ],
   "source": [
    "vowal=['a','e','o','u','i']\n",
    "\n",
    "word=\"programming\"\n",
    "\n",
    "count=0\n",
    "\n",
    "for i in word:\n",
    "    if i not in  vowal:\n",
    "        count=count+1\n",
    "\n",
    "print(count)"
   ]
  },
  {
   "cell_type": "markdown",
   "metadata": {},
   "source": [
    "     Counting Vowels in a Given Wor"
   ]
  },
  {
   "cell_type": "code",
   "execution_count": 1,
   "metadata": {},
   "outputs": [
    {
     "name": "stdout",
     "output_type": "stream",
     "text": [
      "3\n"
     ]
    }
   ],
   "source": [
    "vowel = ['a', 'e', 'i', 'o', 'u']\n",
    "word = \"programming\"\n",
    "count = 0\n",
    "for character in word:\n",
    "    if character in vowel:\n",
    "        count += 1\n",
    "print(count)"
   ]
  },
  {
   "cell_type": "markdown",
   "metadata": {},
   "source": [
    "leap years "
   ]
  },
  {
   "cell_type": "code",
   "execution_count": 4,
   "metadata": {},
   "outputs": [
    {
     "name": "stdout",
     "output_type": "stream",
     "text": [
      "not leap  years\n"
     ]
    }
   ],
   "source": [
    "years=int(input(\"Enter the Years \"))\n",
    "\n",
    "if (years %4==0 and (years%100!=0 or years%400==0)):\n",
    "    print(\"leap years\")\n",
    "else:\n",
    "    print(\"not leap  years\")"
   ]
  },
  {
   "cell_type": "code",
   "execution_count": 3,
   "metadata": {},
   "outputs": [
    {
     "name": "stdout",
     "output_type": "stream",
     "text": [
      "1\n"
     ]
    }
   ],
   "source": [
    "a=int(input())\n",
    "\n",
    "print(a)"
   ]
  },
  {
   "cell_type": "code",
   "execution_count": 7,
   "metadata": {},
   "outputs": [
    {
     "name": "stdout",
     "output_type": "stream",
     "text": [
      "0 1 1 2 3 5 8 "
     ]
    }
   ],
   "source": [
    "n=int(input(\" enter the number \"))\n",
    "\n",
    "b=0\n",
    "c=1\n",
    "\n",
    "\n",
    "for i in range(n):\n",
    "    print (b, end=' ')\n",
    "    d=b+c\n",
    "    b=c\n",
    "    c=d\n",
    "\n",
    "\n",
    "    \n"
   ]
  },
  {
   "cell_type": "code",
   "execution_count": 10,
   "metadata": {},
   "outputs": [
    {
     "name": "stdout",
     "output_type": "stream",
     "text": [
      "0 1 1 2 3 5 8 "
     ]
    }
   ],
   "source": [
    "def fib(a):\n",
    "    if a==0:\n",
    "        return 0\n",
    "    if a==1:\n",
    "        return 1\n",
    "    return fib(a-1)+fib(a-2)\n",
    "\n",
    "\n",
    "a=int(input())\n",
    "\n",
    "for i in range(a):\n",
    "    print(fib(i), end=' ')"
   ]
  },
  {
   "cell_type": "code",
   "execution_count": 17,
   "metadata": {},
   "outputs": [
    {
     "name": "stdout",
     "output_type": "stream",
     "text": [
      "3\n"
     ]
    }
   ],
   "source": [
    "n=123\n",
    "\n",
    "count=0\n",
    "\n",
    "while n!=0:\n",
    "    n=n//10\n",
    " \n",
    "    count=count+1\n",
    "\n",
    "print(count)"
   ]
  },
  {
   "cell_type": "code",
   "execution_count": 25,
   "metadata": {},
   "outputs": [
    {
     "name": "stdout",
     "output_type": "stream",
     "text": [
      "3\n"
     ]
    }
   ],
   "source": [
    "num=123\n",
    "sum=0\n",
    "\n",
    "while num>0:\n",
    "    digit=num%10\n",
    "    sum=sum+1\n",
    "    num=num//10\n",
    "\n",
    "print(sum)"
   ]
  },
  {
   "cell_type": "code",
   "execution_count": 32,
   "metadata": {},
   "outputs": [
    {
     "name": "stdout",
     "output_type": "stream",
     "text": [
      "0\n"
     ]
    }
   ],
   "source": [
    "num=-123\n",
    "\n",
    "rev=0\n",
    "\n",
    "while num>0:\n",
    "    digit=num%10\n",
    "    rev=rev*10+digit\n",
    "    num=num//10\n",
    "\n",
    "print(rev)\n",
    "\n"
   ]
  },
  {
   "cell_type": "code",
   "execution_count": 33,
   "metadata": {},
   "outputs": [
    {
     "name": "stdout",
     "output_type": "stream",
     "text": [
      "321-\n"
     ]
    }
   ],
   "source": [
    "num=-123\n",
    "\n",
    "a=str(num)\n",
    "\n",
    "print(a[::-1])"
   ]
  }
 ],
 "metadata": {
  "kernelspec": {
   "display_name": "Python 3",
   "language": "python",
   "name": "python3"
  },
  "language_info": {
   "codemirror_mode": {
    "name": "ipython",
    "version": 3
   },
   "file_extension": ".py",
   "mimetype": "text/x-python",
   "name": "python",
   "nbconvert_exporter": "python",
   "pygments_lexer": "ipython3",
   "version": "3.13.2"
  }
 },
 "nbformat": 4,
 "nbformat_minor": 2
}
