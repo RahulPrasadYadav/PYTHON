{
 "cells": [
  {
   "cell_type": "code",
   "execution_count": null,
   "metadata": {},
   "outputs": [],
   "source": [
    "import pandas as pd\n",
    "\n",
    "import numpy as np"
   ]
  },
  {
   "cell_type": "code",
   "execution_count": 2,
   "metadata": {},
   "outputs": [
    {
     "name": "stdout",
     "output_type": "stream",
     "text": [
      "0    1\n",
      "1    2\n",
      "2    3\n",
      "3    4\n",
      "4    5\n",
      "dtype: int64\n"
     ]
    }
   ],
   "source": [
    "import pandas as pd\n",
    "\n",
    "import numpy as np\n",
    "\n",
    "pyarr=np.array([1,2,3,4,5])\n",
    "pyser=pd.Series(pyarr)\n",
    "\n",
    "print(pyser)"
   ]
  },
  {
   "cell_type": "markdown",
   "metadata": {},
   "source": [
    ". Write a Pandas program to convert a Panda module Series to Python list and it's type."
   ]
  },
  {
   "cell_type": "code",
   "execution_count": 5,
   "metadata": {},
   "outputs": [
    {
     "name": "stdout",
     "output_type": "stream",
     "text": [
      "<class 'pandas.core.series.Series'>\n",
      "[1, 2, 3, 4, 4]\n",
      "<class 'list'>\n"
     ]
    }
   ],
   "source": [
    "import pandas as pd\n",
    "\n",
    "ds=pd.Series([1,2,3,4,4])\n",
    "\n",
    "print(type(ds))\n",
    "\n",
    "print(ds.tolist())\n",
    "print(type(ds.tolist()))"
   ]
  },
  {
   "cell_type": "markdown",
   "metadata": {},
   "source": [
    "Write a Pandas program to add, subtract, multiple and divide two Pandas Series."
   ]
  },
  {
   "cell_type": "code",
   "execution_count": 9,
   "metadata": {},
   "outputs": [
    {
     "name": "stdout",
     "output_type": "stream",
     "text": [
      "add two Series\n",
      "0     3\n",
      "1     7\n",
      "2    11\n",
      "3    15\n",
      "4    19\n",
      "dtype: int64\n",
      "Substract two Series \n",
      "0    1\n",
      "1    1\n",
      "2    1\n",
      "3    1\n",
      "4    1\n",
      "dtype: int64\n"
     ]
    }
   ],
   "source": [
    "ds=pd.Series([2,4,6,8,10])\n",
    "ds1=pd.Series([1,3,5,7,9])\n",
    "print (\"add two Series\")\n",
    "print(ds+ds1)\n",
    "print(\"Substract two Series \")\n",
    "print(ds-ds1)\n",
    "\n"
   ]
  },
  {
   "cell_type": "markdown",
   "metadata": {},
   "source": [
    "Write a Pandas program to compare the elements of the two Pandas Series"
   ]
  },
  {
   "cell_type": "code",
   "execution_count": 12,
   "metadata": {},
   "outputs": [
    {
     "name": "stdout",
     "output_type": "stream",
     "text": [
      "0    False\n",
      "1    False\n",
      "2    False\n",
      "3    False\n",
      "4    False\n",
      "dtype: bool\n",
      "0    True\n",
      "1    True\n",
      "2    True\n",
      "3    True\n",
      "4    True\n",
      "dtype: bool\n"
     ]
    }
   ],
   "source": [
    "ds=pd.Series([2,4,6,8,10])\n",
    "ds1=pd.Series([1,3,5,7,9])\n",
    "\n",
    "print(ds==ds1)\n",
    "\n",
    "print(ds>ds1)\n",
    "\n"
   ]
  },
  {
   "cell_type": "markdown",
   "metadata": {},
   "source": [
    "Write a Pandas program to convert a dictionary to a Pandas series."
   ]
  },
  {
   "cell_type": "code",
   "execution_count": 13,
   "metadata": {},
   "outputs": [
    {
     "name": "stdout",
     "output_type": "stream",
     "text": [
      "a    100\n",
      "b    200\n",
      "c    300\n",
      "d    400\n",
      "e    500\n",
      "dtype: int64\n"
     ]
    }
   ],
   "source": [
    "mydict={'a':100,'b':200,'c':300,'d':400,'e':500}\n",
    "\n",
    "py=pd.Series(mydict)\n",
    "\n",
    "print(py)"
   ]
  },
  {
   "cell_type": "markdown",
   "metadata": {},
   "source": [
    ". Write a Pandas program to convert a NumPy array to a Pandas series.\n",
    "Sample Series: \n",
    "  NumPy array:\n",
    "[10 20 30 40 50]\n",
    "Converted Pandas series:\n",
    "0    10\n",
    "1    20\n",
    "2    30\n",
    "3    40\n",
    "4    50\n",
    "dtype: int64 "
   ]
  },
  {
   "cell_type": "code",
   "execution_count": null,
   "metadata": {},
   "outputs": [
    {
     "name": "stdout",
     "output_type": "stream",
     "text": [
      "0    10.0\n",
      "1    20.0\n",
      "2    30.0\n",
      "3    40.0\n",
      "4    50.0\n",
      "dtype: float64\n"
     ]
    }
   ],
   "source": [
    "myarr=np.array([10,20,30,40,50])\n",
    "py=pd.Series(myarr,)\n",
    "\n",
    "print(py)"
   ]
  },
  {
   "cell_type": "markdown",
   "metadata": {},
   "source": [
    "Write a Pandas program to change the data type of given a column or a Series."
   ]
  },
  {
   "cell_type": "code",
   "execution_count": 20,
   "metadata": {},
   "outputs": [
    {
     "name": "stdout",
     "output_type": "stream",
     "text": [
      "orginal Data Type\n",
      " 0       100\n",
      "1       200\n",
      "2    Python\n",
      "3       300\n",
      "4       400\n",
      "dtype: object\n",
      "Change the said data type to numeric\n",
      " 0    100.0\n",
      "1    200.0\n",
      "2      NaN\n",
      "3    300.0\n",
      "4    400.0\n",
      "dtype: float64\n"
     ]
    }
   ],
   "source": [
    "ds=pd.Series([100,200,\"Python\",300,400])\n",
    "\n",
    "print('orginal Data Type\\n',ds)\n",
    "\n",
    "ds1=pd.to_numeric(ds,errors='coerce')\n",
    "print(\"Change the said data type to numeric\\n\",ds1)\n",
    "\n",
    "\n"
   ]
  },
  {
   "cell_type": "markdown",
   "metadata": {},
   "source": [
    "Write a Pandas program to convert the first column of a DataFrame as a Series.\n",
    "\n",
    "Original DataFrame\n",
    "   col1  col2  col3\n",
    "0     1     4     7\n",
    "1     2     5     5\n",
    "2     3     6     8\n",
    "3     4     9    12\n",
    "4     7     5     1\n",
    "5    11     0    11\n",
    "\n",
    "1st column as a Series:\n",
    "0     1\n",
    "1     2\n",
    "2     3\n",
    "3     4\n",
    "4     7\n",
    "5    11\n",
    "Name: col1, dtype: int64\n",
    "<class 'pandas.core.series.Series'>"
   ]
  },
  {
   "cell_type": "code",
   "execution_count": 32,
   "metadata": {},
   "outputs": [
    {
     "data": {
      "text/plain": [
       "0    1\n",
       "1    2\n",
       "2    3\n",
       "3    4\n",
       "Name: col1, dtype: int64"
      ]
     },
     "execution_count": 32,
     "metadata": {},
     "output_type": "execute_result"
    }
   ],
   "source": [
    "df=pd.DataFrame([[1,2,3],[2,5,6],[3,6,8],[4,9,12]],columns=[\"col1\",\"col2\",\"col3\"])\n",
    "df.iloc[:,0]"
   ]
  },
  {
   "cell_type": "markdown",
   "metadata": {},
   "source": [
    "9 :  Write a Pandas program to convert a given Series to an array.\n",
    "Sample Output: \n",
    "Original Data Series:\n",
    "0       100\n",
    "1       200\n",
    "2    python\n",
    "3    300.12\n",
    "4       400\n",
    "dtype: object\n",
    "Series to an array\n",
    "['100' '200' 'python' '300.12' '400']\n",
    "<class 'numpy.ndarray'>"
   ]
  },
  {
   "cell_type": "code",
   "execution_count": 33,
   "metadata": {},
   "outputs": [
    {
     "name": "stdout",
     "output_type": "stream",
     "text": [
      "Original Data Series:\n",
      " 0       100\n",
      "1       200\n",
      "2    python\n",
      "3    300.12\n",
      "4       400\n",
      "dtype: object\n",
      "Series to an array\n",
      "\n",
      "[100 200 'python' 300.12 400]\n"
     ]
    }
   ],
   "source": [
    "ds=pd.Series([100,200,\"python\",300.12,400])\n",
    "print(\"Original Data Series:\\n\",ds)\n",
    "pyarr=np.array(ds)\n",
    "print(\"Series to an array\\n\")\n",
    "print(pyarr)\n",
    "\n",
    "\n"
   ]
  },
  {
   "cell_type": "code",
   "execution_count": null,
   "metadata": {},
   "outputs": [],
   "source": []
  }
 ],
 "metadata": {
  "kernelspec": {
   "display_name": "Python 3",
   "language": "python",
   "name": "python3"
  },
  "language_info": {
   "codemirror_mode": {
    "name": "ipython",
    "version": 3
   },
   "file_extension": ".py",
   "mimetype": "text/x-python",
   "name": "python",
   "nbconvert_exporter": "python",
   "pygments_lexer": "ipython3",
   "version": "3.13.2"
  }
 },
 "nbformat": 4,
 "nbformat_minor": 2
}
